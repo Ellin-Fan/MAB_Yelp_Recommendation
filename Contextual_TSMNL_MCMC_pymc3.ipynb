{
 "cells": [
  {
   "cell_type": "code",
   "execution_count": 1,
   "metadata": {},
   "outputs": [],
   "source": [
    "import pandas as pd\n",
    "import numpy as np\n",
    "import random\n",
    "import datetime\n",
    "from sklearn.preprocessing import normalize\n",
    "from numpy.linalg import norm\n",
    "\n",
    "from scipy.optimize import minimize\n",
    "import matplotlib.pyplot as plt\n",
    "from gurobipy import Model, LinExpr, GRB, quicksum\n",
    "import pymc3 as pm\n",
    "\n",
    "import warnings\n",
    "warnings.filterwarnings(\"ignore\")\n",
    "\n",
    "import pickle"
   ]
  },
  {
   "cell_type": "markdown",
   "metadata": {},
   "source": [
    "### Preliminary Algorithms"
   ]
  },
  {
   "cell_type": "code",
   "execution_count": 2,
   "metadata": {},
   "outputs": [],
   "source": [
    "def subset_selection_Davis1(reward,utility,K,N):\n",
    "    # r, u_i with len=N instead of N+1\n",
    "    r = reward\n",
    "    u_i = utility\n",
    "    b = K           \n",
    "\n",
    "    m = Model('Subset Selection')\n",
    "    m.setParam('OutputFlag', 0) \n",
    "\n",
    "    w = list()      # probability of choosing {0} or items{1,...,N}\n",
    "    for i in range(N+1):\n",
    "        w.append(m.addVar(lb = 0, ub = 1, name = 'w_%i' % i))\n",
    "\n",
    "    m.addConstr(quicksum(w[i] for i in range(1,N+1))+w[0], GRB.EQUAL, 1)\n",
    "    m.addConstr(quicksum(w[i]/u_i[i-1] for i in range(1,N+1)) - b*w[0], GRB.LESS_EQUAL, 0)\n",
    "    for i in range(1,N+1):\n",
    "        m.addConstr(w[i]/u_i[i-1], GRB.GREATER_EQUAL, 0)\n",
    "        m.addConstr(w[i]/u_i[i-1] - w[0], GRB.LESS_EQUAL, 0)\n",
    "\n",
    "    m.setObjective(quicksum(w[i]*r[i-1] for i in range(1,N+1)), GRB.MAXIMIZE)\n",
    "\n",
    "    m.update()            \n",
    "    m.optimize()\n",
    "    m.ObjVal\n",
    "    x = m.getVars()\n",
    "\n",
    "    items_offered = []\n",
    "    for i in range(len(x)):\n",
    "        if x[i].x>0:\n",
    "            items_offered.append(x[i].varname)\n",
    "    \n",
    "    # items in the optimal assortment S_l, index start from 1!\n",
    "    items_offered = [int(name[2:]) for name in items_offered]\n",
    "    if items_offered[0]==0:\n",
    "        items_offered = items_offered[1:]\n",
    "    \n",
    "    # check items_offered\n",
    "    #print('check z: ',sum([r[i-1]*u_i[i-1]/(1+sum(u_i[i-1] for i in items_offered)) for i in items_offered]))\n",
    "    return items_offered"
   ]
  },
  {
   "cell_type": "markdown",
   "metadata": {},
   "source": [
    "### Use MCMC in Contextual Bandit\n",
    "- Use samples instead of means and stds of samples(variational Bayes)\n",
    "- Not sample for each time\n",
    "    - 1. compare the difference of thetas' means, if bigger than 0.1, do a posterior sampling\n",
    "    - 2. if t is a power of 2, do a posterior sampling\n",
    "- Do multiple(20) samples one time, randomly choose one sample as the posterior sample of thetas for this round"
   ]
  },
  {
   "cell_type": "markdown",
   "metadata": {},
   "source": [
    "I defined 2 vsariables in my `model`: one is `thetas`, the multivariate normal variable, which we want to infer from the posterior distribution. The other is `choice_Y`, which is a Multinomial variable, but it's an observed variable.\n",
    "\n",
    "<html>\n",
    "    <a href='https://docs.pymc.io/PyMC3_and_Theano.html'>Ref</a></html>"
   ]
  },
  {
   "cell_type": "code",
   "execution_count": 3,
   "metadata": {},
   "outputs": [],
   "source": [
    "def posterior_sample_theta(observations,size,Xit):\n",
    "    model = pm.Model()\n",
    "    with model:\n",
    "        mu = [0 for i in range(10)]                 \n",
    "        stds = [1 for i in range(10)]                # mu=0, cov=0, stds=1\n",
    "\n",
    "        cov = np.zeros((D,D))\n",
    "        for i in range(D):\n",
    "            cov[i][i]=stds[i]\n",
    "        \n",
    "        thetas = pm.MvNormal('thetas', mu=mu, cov=cov, shape=D)\n",
    "\n",
    "        Vj = pm.math.exp(pm.math.dot(Xit,thetas))     # utility for product j\n",
    "        V = 1 + pm.math.sum(Vj)                       # sum of utility(denominator), start with utility of not buying\n",
    "        Vit = pm.math.concatenate([[1],Vj])           # utility of no purchase = 1\n",
    "\n",
    "        choice_prob_it = Vit/V\n",
    "\n",
    "        choice_Y = pm.Multinomial('Customer Choice',n=1, p=choice_prob_it, observed = observations)\n",
    "\n",
    "    with model:\n",
    "        step = pm.NUTS(target_accept=0.9)\n",
    "        trace = pm.sample(size, step=step)\n",
    "    \n",
    "    theta_mus = pm.summary(trace)['mean'].values\n",
    "    \n",
    "    return trace['thetas'], theta_mus, trace"
   ]
  },
  {
   "cell_type": "markdown",
   "metadata": {},
   "source": [
    "### TS-MNL Algorithms"
   ]
  },
  {
   "cell_type": "code",
   "execution_count": 4,
   "metadata": {},
   "outputs": [],
   "source": [
    "def contextual_setting(t,fixed):\n",
    "    \n",
    "    if fixed:\n",
    "        np.random.seed(800)\n",
    "\n",
    "    else:\n",
    "        np.random.seed(800+t)\n",
    "    \n",
    "    Xit = np.random.normal(0,1,size=(N,D-1))\n",
    "    Xit = normalize(Xit, axis=1)\n",
    "    Xit = np.append(Xit, [[1] for i in range(N)], axis=1)\n",
    "    Xit = Xit/np.sqrt(2)\n",
    "   \n",
    "    return Xit"
   ]
  },
  {
   "cell_type": "code",
   "execution_count": 5,
   "metadata": {},
   "outputs": [],
   "source": [
    "def Contextal_TS_MNL_Fixed(D,K,N,T,rit,Xit,true_theta,n_instance):\n",
    "    \n",
    "    v0 = 1\n",
    "    v = np.exp(np.dot(Xit,theta_0))                  # initial utitlity, j=1, j=2, ... , j=N\n",
    "    t = 0\n",
    "    R = 0\n",
    "    Optimal_R = 0\n",
    "\n",
    "    initial_choice = [0 for i in range(N+1)]     # choice set, len=N+1\n",
    "    initial_choice[0] = 1\n",
    "    observations = [initial_choice]\n",
    "    \n",
    "    sample_round = 0\n",
    "    theta_mu_track = [theta_0]\n",
    "    reg_list = []\n",
    "    \n",
    "    while t<=T:\n",
    "\n",
    "        # Posterior sampling\n",
    "        \"\"\"if t<2 or np.log2(t)%1==0:\n",
    "            if t>5000:\n",
    "                pass\n",
    "            else:\n",
    "                theta_i, theta_mu, trace = posterior_sample_theta(observations, posterior_size, Xit)\n",
    "                theta_mu_track.append(theta_mu)\n",
    "                print(t, theta_mu)\n",
    "        elif t>300 and t<800:\n",
    "            if abs(sum((theta_mu_track[-1] - theta_mu_track[-2])/theta_mu_track[-2]>0.1))>=1:\n",
    "                theta_i, theta_mu, trace = posterior_sample_theta(observations, posterior_size, Xit)\n",
    "                theta_mu_track.append(theta_mu)\n",
    "                print(t, theta_mu)\"\"\"\n",
    "        if t<=2000:\n",
    "            theta_i, theta_mu, trace = posterior_sample_theta(observations, posterior_size, Xit)\n",
    "            theta_mu_track.append(theta_mu)\n",
    "            print(t, theta_mu)\n",
    "    \n",
    "        # 2 - Do 20 samples one time and randomly select 1 sample as theta: theta_i[np.random.randint(20)]\n",
    "        \n",
    "        # Assortment subset selection\n",
    "        v = np.exp(np.dot(Xit,theta_i[np.random.randint(posterior_size*2)]))      # utility for this period t\n",
    "        items_offered = subset_selection_Davis1(rit, v, K, N)       # items out of N\n",
    "        items_list = np.insert(np.array(items_offered),0,0)         # items including no-purchase 0, len=N+1\n",
    "\n",
    "        # Observe customer choice\n",
    "        Xit_t = np.array([Xit[i-1] for i in items_offered])         # true v: choice probability for items showed\n",
    "        true_v = np.exp(np.dot(Xit_t, true_theta)) \n",
    "        true_v = np.insert(true_v,0,v0)\n",
    "        true_choice_prob = true_v/sum(true_v)\n",
    "\n",
    "        true_choice_t = np.random.multinomial(1,true_choice_prob)   # len<=K, display\n",
    "        choice_item = items_list[np.where(true_choice_t==1)[0][0]]\n",
    "        choice_t = [0 for i in range(N+1)]\n",
    "        choice_t[choice_item] = 1\n",
    "        observations.append(choice_t)\n",
    "\n",
    "        # Update reward\n",
    "        if choice_item==0:\n",
    "            R += 0\n",
    "        else:\n",
    "            R += rit[choice_item - 1]\n",
    "\n",
    "        # Optimal reward:  instead of computing avg, calculate each time as features are changing\n",
    "        optimal_v  = np.exp(np.dot(Xit, true_theta))                # optimal v: choice probability for all N items\n",
    "        optimal_offered = subset_selection_Davis1(rit, optimal_v, K, N)\n",
    "        optimal_list = np.insert(np.array(optimal_offered),0,0)\n",
    "\n",
    "        optimal_Xit_t = np.array([Xit[i-1] for i in optimal_offered])\n",
    "        optimal_true_v = np.exp(np.dot(optimal_Xit_t, true_theta)) \n",
    "        optimal_true_v = np.insert(optimal_true_v,0,v0)\n",
    "\n",
    "        optimal_choice_prob = optimal_true_v/sum(optimal_true_v)\n",
    "        optimal_choice = np.random.multinomial(1,optimal_choice_prob)\n",
    "\n",
    "        optimal_choice_item = optimal_list[np.where(optimal_choice==1)[0][0]]\n",
    "\n",
    "        # Update Optimal reward\n",
    "        if optimal_choice_item==0:\n",
    "            Optimal_R += 0\n",
    "        else:\n",
    "            Optimal_R += rit[optimal_choice_item - 1]\n",
    "        \n",
    "        #theta_mu_track.append(mus)\n",
    "        t += 1 \n",
    "        #print(t)\n",
    "        \n",
    "        reg = Optimal_R-R\n",
    "        reg_list.append(reg)\n",
    "    \n",
    "    with open(f'TSMNL_regrets/TSMNL_regret_T{T}_0824_fixed{n_instance}.pkl', 'wb') as f:\n",
    "            pickle.dump(reg_list,f)    \n",
    "    \n",
    "    with open(f'TSMNL_regrets/theta_mu_track_T{T}_0824_fixed{n_instance}.pkl', 'wb') as f:\n",
    "            pickle.dump(theta_mu_track,f)\n",
    "        \n",
    "    return reg_list, theta_mu_track, trace"
   ]
  },
  {
   "cell_type": "code",
   "execution_count": 6,
   "metadata": {},
   "outputs": [],
   "source": [
    "def Contextal_TS_MNL_TimeChanging(D,K,N,T,rit,true_theta,n_instance):\n",
    "    \n",
    "    v0 = 1\n",
    "    t = 0\n",
    "    R = 0\n",
    "    Optimal_R = 0\n",
    "\n",
    "    initial_choice = [0 for i in range(N+1)]     # choice set, len=N+1\n",
    "    initial_choice[0] = 1\n",
    "    observations = [initial_choice]\n",
    "    \n",
    "    sample_round = 0\n",
    "    theta_mu_track = []\n",
    "    reg_list = []\n",
    "    \n",
    "    while t<=T:\n",
    "\n",
    "        # Posterior sampling\n",
    "        # time-changing features:  Observe features\n",
    "        Xit = contextual_setting(t,False)\n",
    "        \n",
    "        if t<2 or np.log2(t)%1==0:\n",
    "            if t>5000:\n",
    "                pass\n",
    "            else:\n",
    "                theta_i, theta_mu, trace = posterior_sample_theta(observations, posterior_size, Xit)\n",
    "                theta_mu_track.append(theta_mu)\n",
    "                print(t, theta_mu)\n",
    "        elif t>300 and t<800:\n",
    "            if abs(sum((theta_mu_track[-1] - theta_mu_track[-2])/theta_mu_track[-2]>0.1))>=1:\n",
    "                theta_i, theta_mu, trace = posterior_sample_theta(observations, posterior_size, Xit)\n",
    "                theta_mu_track.append(theta_mu)\n",
    "                print(t, theta_mu)\n",
    "        # 2 - Do 20 samples one time and randomly select 1 sample as theta: theta_i[np.random.randint(20)]\n",
    "        \n",
    "        # Assortment subset selection\n",
    "        v = np.exp(np.dot(Xit,theta_i[np.random.randint(posterior_size*2)]))      # utility for this period t\n",
    "        items_offered = subset_selection_Davis1(rit, v, K, N)       # items out of N\n",
    "        items_list = np.insert(np.array(items_offered),0,0)         # items including no-purchase 0, len=N+1\n",
    "\n",
    "        # Observe customer choice\n",
    "        Xit_t = np.array([Xit[i-1] for i in items_offered])         # true v: choice probability for items showed\n",
    "        true_v = np.exp(np.dot(Xit_t, true_theta)) \n",
    "        true_v = np.insert(true_v,0,v0)\n",
    "        true_choice_prob = true_v/sum(true_v)\n",
    "\n",
    "        true_choice_t = np.random.multinomial(1,true_choice_prob)   # len<=K, display\n",
    "        choice_item = items_list[np.where(true_choice_t==1)[0][0]]\n",
    "        choice_t = [0 for i in range(N+1)]\n",
    "        choice_t[choice_item] = 1\n",
    "        observations.append(choice_t)\n",
    "\n",
    "        # Update reward\n",
    "        if choice_item==0:\n",
    "            R += 0\n",
    "        else:\n",
    "            R += rit[choice_item - 1]\n",
    "\n",
    "        # Optimal reward:  instead of computing avg, calculate each time as features are changing\n",
    "        optimal_v  = np.exp(np.dot(Xit, true_theta))                # optimal v: choice probability for all N items\n",
    "        optimal_offered = subset_selection_Davis1(rit, optimal_v, K, N)\n",
    "        optimal_list = np.insert(np.array(optimal_offered),0,0)\n",
    "\n",
    "        optimal_Xit_t = np.array([Xit[i-1] for i in optimal_offered])\n",
    "        optimal_true_v = np.exp(np.dot(optimal_Xit_t, true_theta)) \n",
    "        optimal_true_v = np.insert(optimal_true_v,0,v0)\n",
    "\n",
    "        optimal_choice_prob = optimal_true_v/sum(optimal_true_v)\n",
    "        optimal_choice = np.random.multinomial(1,optimal_choice_prob)\n",
    "\n",
    "        optimal_choice_item = optimal_list[np.where(optimal_choice==1)[0][0]]\n",
    "\n",
    "        # Update Optimal reward\n",
    "        if optimal_choice_item==0:\n",
    "            Optimal_R += 0\n",
    "        else:\n",
    "            Optimal_R += rit[optimal_choice_item - 1]\n",
    "        \n",
    "        #theta_mu_track.append(mus)\n",
    "        t += 1 \n",
    "        #print(t)\n",
    "        \n",
    "        reg = Optimal_R-R\n",
    "        reg_list.append(reg)\n",
    "        \n",
    "    with open(f'TSMNL_regrets/TSMNL_regret_T{T}_0823_Changing{n_instance}.pkl', 'wb') as f:\n",
    "            pickle.dump(reg_list,f)    \n",
    "\n",
    "    with open(f'TSMNL_regrets/theta_mu_track_T{T}_0823_Changing{n_instance}.pkl', 'wb') as f:\n",
    "            pickle.dump(theta_mu_track,f)\n",
    "        \n",
    "    return reg_list, theta_mu_track, trace"
   ]
  },
  {
   "cell_type": "code",
   "execution_count": 7,
   "metadata": {},
   "outputs": [],
   "source": [
    "def plot_regret_trace(T_str,ninstance_str,date_str,Fixed_Changing_str):\n",
    "    import pickle\n",
    "    with open(f'TSMNL_regrets/TSMNL_regret_T{T_str}_{date_str}_{Fixed_Changing_str}{ninstance_str}.pkl', 'rb') as f:\n",
    "        x = pickle.load(f)\n",
    "    plt.figure(figsize=(8,6))\n",
    "    plt.plot(x, c=\"green\")\n",
    "    plt.title(f\"{Fixed_Changing_str} features: TS-MNL with MCMC Sampling\", fontsize=14)\n",
    "    plt.xlabel(\"Periods: T\")\n",
    "    plt.ylabel(\"Regrets\")\n",
    "    plt.show()\n",
    "\n",
    "    with open(f'TSMNL_regrets/theta_mu_track_T{T_str}_{date_str}_{Fixed_Changing_str}{ninstance_str}.pkl', 'rb') as f:\n",
    "        theta_mu_track = pickle.load(f)\n",
    "    plt.figure(figsize=(8,6))\n",
    "    plt.plot(theta_mu_track)\n",
    "    plt.title('Track the mean of sampled thetas')\n",
    "    plt.xlabel('Sample rounds')\n",
    "    plt.ylabel('Mean of thetas')\n",
    "    plt.show()"
   ]
  },
  {
   "cell_type": "markdown",
   "metadata": {},
   "source": [
    "### 1. Contextual Setting 1: time-fixed product features and rewards"
   ]
  },
  {
   "cell_type": "code",
   "execution_count": 8,
   "metadata": {},
   "outputs": [],
   "source": [
    "import pickle\n",
    "import numpy as np\n",
    "x=[]\n",
    "for i in range(5):\n",
    "    with open(f'TSMNL_regrets/TSMNL_regret_T10000_0823_Fixed{i}.pkl', 'rb') as f:\n",
    "        x.append(pickle.load(f))\n",
    "\n",
    "x = np.array([np.array(i) for i in x])"
   ]
  },
  {
   "cell_type": "code",
   "execution_count": 9,
   "metadata": {},
   "outputs": [
    {
     "data": {
      "text/plain": [
       "[<matplotlib.lines.Line2D at 0x7ffd03eb0650>]"
      ]
     },
     "execution_count": 9,
     "metadata": {},
     "output_type": "execute_result"
    },
    {
     "data": {
      "image/png": "[encoded data removed]",
      "text/plain": [
       "<Figure size 576x432 with 1 Axes>"
      ]
     },
     "metadata": {
      "needs_background": "light"
     },
     "output_type": "display_data"
    }
   ],
   "source": [
    "plt.figure(figsize=(8,6))\n",
    "plt.plot(np.mean(x,axis=0))"
   ]
  },
  {
   "cell_type": "code",
   "execution_count": null,
   "metadata": {},
   "outputs": [
    {
     "name": "stdout",
     "output_type": "stream",
     "text": [
      "[-0.20034586 -0.72274961 -1.00643648 -0.43536761  0.93033648 -0.69471352\n",
      " -3.29189218 -0.6389869   0.11438877  0.20406986] [[-0.03736982 -0.13481197 -0.18772709 ... -0.119188    0.02133654\n",
      "   0.70710678]\n",
      " [ 0.07217456 -0.26551363  0.05999602 ...  0.08510846 -0.52867239\n",
      "   0.70710678]\n",
      " [-0.40565247  0.238807   -0.10170313 ...  0.11184398  0.10368141\n",
      "   0.70710678]\n",
      " ...\n",
      " [-0.26799584  0.11790492 -0.07990202 ... -0.05045935 -0.26117488\n",
      "   0.70710678]\n",
      " [-0.07637925 -0.40620153 -0.30409797 ... -0.11016237 -0.02568183\n",
      "   0.70710678]\n",
      " [-0.04691193  0.0678582   0.0823647  ...  0.08609482 -0.37184851\n",
      "   0.70710678]]\n"
     ]
    },
    {
     "name": "stderr",
     "output_type": "stream",
     "text": [
      "Only 20 samples in chain.\n",
      "WARNING:pymc3:Only 20 samples in chain.\n",
      "Multiprocess sampling (2 chains in 2 jobs)\n",
      "INFO:pymc3:Multiprocess sampling (2 chains in 2 jobs)\n",
      "NUTS: [thetas]\n",
      "INFO:pymc3:NUTS: [thetas]\n"
     ]
    },
    {
     "data": {
      "text/html": [
       "\n",
       "    <div>\n",
       "        <style>\n",
       "            /* Turns off some styling */\n",
       "            progress {\n",
       "                /* gets rid of default border in Firefox and Opera. */\n",
       "                border: none;\n",
       "                /* Needs to be in here for Safari polyfill so background images work as expected. */\n",
       "                background-size: auto;\n",
       "            }\n",
       "            .progress-bar-interrupted, .progress-bar-interrupted::-webkit-progress-bar {\n",
       "                background: #F44336;\n",
       "            }\n",
       "        </style>\n",
       "      <progress value='0' class='' max='2040' style='width:300px; height:20px; vertical-align: middle;'></progress>\n",
       "      0.00% [0/2040 00:00<00:00 Sampling 2 chains, 0 divergences]\n",
       "    </div>\n",
       "    "
      ],
      "text/plain": [
       "<IPython.core.display.HTML object>"
      ]
     },
     "metadata": {},
     "output_type": "display_data"
    }
   ],
   "source": [
    "D = 10\n",
    "N = 128\n",
    "K = 8\n",
    "T = 10000\n",
    "posterior_size = 20\n",
    "\n",
    "rit = np.array([1 for i in range(N)])\n",
    "\n",
    "np.random.seed(800)\n",
    "theta_0 = np.random.normal(0,1,D)\n",
    "np.random.seed(800)\n",
    "true_theta = np.random.normal(0,1,D)\n",
    "Xit = contextual_setting(0,True)\n",
    "print(true_theta,Xit)\n",
    "\n",
    "regret_fixed = []\n",
    "theta_mu_track_fixed = []\n",
    "trace_fixed = []\n",
    "for i in range(10):\n",
    "    x, y, z = Contextal_TS_MNL_Fixed(D,K,N,T,rit,Xit,true_theta,i)\n",
    "    regret_fixed.append(x)\n",
    "    theta_mu_track_fixed.append(y)\n",
    "    trace_fixed.append(z)"
   ]
  },
  {
   "cell_type": "code",
   "execution_count": null,
   "metadata": {
    "scrolled": false
   },
   "outputs": [],
   "source": [
    "for i in range(5):\n",
    "    plot_regret_trace('10000',str(i),'0822','Fixed')"
   ]
  },
  {
   "cell_type": "markdown",
   "metadata": {},
   "source": [
    "### 2. Contextual Setting 2: time-changing product features and rewards\n",
    "\n",
    "##### Alg1: TS-MNL with mcmc"
   ]
  },
  {
   "cell_type": "code",
   "execution_count": null,
   "metadata": {
    "scrolled": true
   },
   "outputs": [],
   "source": [
    "D = 10\n",
    "N = 128\n",
    "K = 8\n",
    "T = 10000\n",
    "posterior_size = 1000\n",
    "\n",
    "rit = np.array([1 for i in range(N)])\n",
    "\n",
    "np.random.seed(800)\n",
    "true_theta = np.random.normal(0,1,D)\n",
    "Xit = contextual_setting(0,True)\n",
    "print(true_theta,Xit)\n",
    "\n",
    "regret_changing = []\n",
    "theta_mu_track_changing = []\n",
    "trace_changing = []\n",
    "for i in range(5):\n",
    "    x, y, z = Contextal_TS_MNL_TimeChanging(D,K,N,T,rit,true_theta,i)\n",
    "    regret_changing.append(x)\n",
    "    theta_mu_track_changing.append(y)\n",
    "    trace_changing.append(z)"
   ]
  },
  {
   "cell_type": "code",
   "execution_count": null,
   "metadata": {
    "scrolled": false
   },
   "outputs": [],
   "source": [
    "plot_regret_trace('10000',0,'0822','Changing')"
   ]
  },
  {
   "cell_type": "code",
   "execution_count": null,
   "metadata": {},
   "outputs": [],
   "source": []
  },
  {
   "cell_type": "code",
   "execution_count": null,
   "metadata": {},
   "outputs": [],
   "source": []
  }
 ],
 "metadata": {
  "kernelspec": {
   "display_name": "Python 3",
   "language": "python",
   "name": "python3"
  },
  "language_info": {
   "codemirror_mode": {
    "name": "ipython",
    "version": 3
   },
   "file_extension": ".py",
   "mimetype": "text/x-python",
   "name": "python",
   "nbconvert_exporter": "python",
   "pygments_lexer": "ipython3",
   "version": "3.7.4"
  }
 },
 "nbformat": 4,
 "nbformat_minor": 4
}
